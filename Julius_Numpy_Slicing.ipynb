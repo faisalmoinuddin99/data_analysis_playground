{
 "cells": [
  {
   "cell_type": "code",
   "execution_count": 1,
   "id": "87f81d0d",
   "metadata": {},
   "outputs": [],
   "source": [
    "import numpy as np"
   ]
  },
  {
   "cell_type": "code",
   "execution_count": 2,
   "id": "dc60085b",
   "metadata": {},
   "outputs": [
    {
     "data": {
      "text/plain": [
       "'\\n1D Array = VECTOR\\n2D Array = MATRIX\\nnD Array = TENSOR\\n'"
      ]
     },
     "execution_count": 2,
     "metadata": {},
     "output_type": "execute_result"
    }
   ],
   "source": [
    "'''\n",
    "1D Array = VECTOR\n",
    "2D Array = MATRIX\n",
    "nD Array = TENSOR\n",
    "'''"
   ]
  },
  {
   "cell_type": "code",
   "execution_count": 3,
   "id": "3d9ffcf6",
   "metadata": {},
   "outputs": [],
   "source": [
    "# Create a 2D numpy array\n",
    "matrixA = np.array([[1,2,3],[4,5,6],[7,8,9]])"
   ]
  },
  {
   "cell_type": "code",
   "execution_count": 4,
   "id": "54ac1a11",
   "metadata": {},
   "outputs": [
    {
     "name": "stdout",
     "output_type": "stream",
     "text": [
      "Original Matrix:\n",
      "[[1 2 3]\n",
      " [4 5 6]\n",
      " [7 8 9]]\n"
     ]
    }
   ],
   "source": [
    "# Display the original matrix\n",
    "print('Original Matrix:')\n",
    "print(matrixA)"
   ]
  },
  {
   "cell_type": "markdown",
   "id": "f24f19b3",
   "metadata": {},
   "source": [
    "# Basic slicing examples"
   ]
  },
  {
   "cell_type": "code",
   "execution_count": 5,
   "id": "492c1827",
   "metadata": {},
   "outputs": [
    {
     "name": "stdout",
     "output_type": "stream",
     "text": [
      "First Row : [1 2 3]\n"
     ]
    }
   ],
   "source": [
    "# print the first row\n",
    "print(f\"First Row : {matrixA[0]}\")"
   ]
  },
  {
   "cell_type": "markdown",
   "id": "52d23f2d",
   "metadata": {},
   "source": [
    "#### Multidimensional Slicing: For multidimensional arrays, you can use a comma-separated tuple of slice objects. For example, array[start1:stop1:step1, start2:stop2:step2] will slice a 2D array."
   ]
  },
  {
   "cell_type": "code",
   "execution_count": 6,
   "id": "1e00ed90",
   "metadata": {},
   "outputs": [
    {
     "name": "stdout",
     "output_type": "stream",
     "text": [
      "Second Column : [2 5 8]\n"
     ]
    }
   ],
   "source": [
    "# print the second column\n",
    "\n",
    "print(f\"Second Column : {matrixA[:,1]}\")"
   ]
  },
  {
   "cell_type": "code",
   "execution_count": 7,
   "id": "c57b05d6",
   "metadata": {},
   "outputs": [
    {
     "name": "stdout",
     "output_type": "stream",
     "text": [
      "Third Row : [7 8 9]\n"
     ]
    }
   ],
   "source": [
    "# print the thrid row\n",
    "\n",
    "print(f\"Third Row : { matrixA[2] }\")"
   ]
  },
  {
   "cell_type": "code",
   "execution_count": 8,
   "id": "e366a95b",
   "metadata": {},
   "outputs": [
    {
     "name": "stdout",
     "output_type": "stream",
     "text": [
      "Last row : [7 8 9]\n"
     ]
    }
   ],
   "source": [
    "# print the last row\n",
    "\n",
    "print(f\"Last row : {matrixA[-1]}\")"
   ]
  },
  {
   "cell_type": "markdown",
   "id": "18ae9079",
   "metadata": {},
   "source": [
    "### Slice with steps"
   ]
  },
  {
   "cell_type": "code",
   "execution_count": 9,
   "id": "b37ba7fe",
   "metadata": {},
   "outputs": [
    {
     "name": "stdout",
     "output_type": "stream",
     "text": [
      "\n",
      "Slicing with Steps:\n"
     ]
    }
   ],
   "source": [
    "print('\\nSlicing with Steps:')"
   ]
  },
  {
   "cell_type": "code",
   "execution_count": 11,
   "id": "476ff134",
   "metadata": {},
   "outputs": [
    {
     "data": {
      "text/plain": [
       "array([[1, 2, 3],\n",
       "       [4, 5, 6],\n",
       "       [7, 8, 9]])"
      ]
     },
     "execution_count": 11,
     "metadata": {},
     "output_type": "execute_result"
    }
   ],
   "source": [
    "matrixA"
   ]
  },
  {
   "cell_type": "code",
   "execution_count": 23,
   "id": "35267e31",
   "metadata": {},
   "outputs": [
    {
     "name": "stdout",
     "output_type": "stream",
     "text": [
      "Every second element of first row : [1 3]\n"
     ]
    }
   ],
   "source": [
    "print(f\"Every second element of first row : {matrixA[0, ::2]}\")"
   ]
  },
  {
   "cell_type": "code",
   "execution_count": 31,
   "id": "05b95ebe",
   "metadata": {},
   "outputs": [
    {
     "name": "stdout",
     "output_type": "stream",
     "text": [
      "\n",
      "Slicing a Submatrix:\n",
      "Top left 2x2 submatrix:\n",
      "[[1 2]\n",
      " [4 5]] \n"
     ]
    }
   ],
   "source": [
    "# Slicing a submatrix\n",
    "print('\\nSlicing a Submatrix:')\n",
    "print(f\"Top left 2x2 submatrix:\\n{ matrixA[:2, :2] } \")"
   ]
  },
  {
   "cell_type": "code",
   "execution_count": 32,
   "id": "6c246aa4",
   "metadata": {},
   "outputs": [
    {
     "name": "stdout",
     "output_type": "stream",
     "text": [
      "\n",
      "Using Negative Indices:\n",
      "Bottom right element: 9\n"
     ]
    }
   ],
   "source": [
    "# Using negative indices\n",
    "print('\\nUsing Negative Indices:')\n",
    "print('Bottom right element:', matrixA[-1, -1])"
   ]
  },
  {
   "cell_type": "code",
   "execution_count": 33,
   "id": "46df9f39",
   "metadata": {},
   "outputs": [
    {
     "name": "stdout",
     "output_type": "stream",
     "text": [
      "\n",
      "Using Slices with Steps:\n",
      "Reversed first row: [3 2 1]\n"
     ]
    }
   ],
   "source": [
    "# Using slices with steps\n",
    "print('\\nUsing Slices with Steps:')\n",
    "print('Reversed first row:', matrixA[0, ::-1])"
   ]
  },
  {
   "cell_type": "code",
   "execution_count": 52,
   "id": "5decc6cd",
   "metadata": {},
   "outputs": [
    {
     "data": {
      "text/plain": [
       "array([[3, 2, 1],\n",
       "       [6, 5, 4],\n",
       "       [9, 8, 7]])"
      ]
     },
     "execution_count": 52,
     "metadata": {},
     "output_type": "execute_result"
    }
   ],
   "source": [
    "matrixA[:,::-1] # reverse the matrix"
   ]
  },
  {
   "cell_type": "code",
   "execution_count": 53,
   "id": "a1076586",
   "metadata": {},
   "outputs": [],
   "source": [
    "revMatrixA_1 = matrixA[:,::-1]"
   ]
  },
  {
   "cell_type": "code",
   "execution_count": 54,
   "id": "34fdb410",
   "metadata": {},
   "outputs": [
    {
     "data": {
      "text/plain": [
       "array([[3, 2, 1],\n",
       "       [6, 5, 4],\n",
       "       [9, 8, 7]])"
      ]
     },
     "execution_count": 54,
     "metadata": {},
     "output_type": "execute_result"
    }
   ],
   "source": [
    "revMatrixA_1"
   ]
  },
  {
   "cell_type": "code",
   "execution_count": 57,
   "id": "b4a8565f",
   "metadata": {},
   "outputs": [
    {
     "data": {
      "text/plain": [
       "array([[1, 2, 3],\n",
       "       [4, 5, 6],\n",
       "       [7, 8, 9]])"
      ]
     },
     "execution_count": 57,
     "metadata": {},
     "output_type": "execute_result"
    }
   ],
   "source": [
    "matrixA"
   ]
  },
  {
   "cell_type": "code",
   "execution_count": 55,
   "id": "70732787",
   "metadata": {},
   "outputs": [],
   "source": [
    "matrixB = matrixA + revMatrixA_1"
   ]
  },
  {
   "cell_type": "code",
   "execution_count": 56,
   "id": "b3d94f88",
   "metadata": {},
   "outputs": [
    {
     "data": {
      "text/plain": [
       "array([[ 4,  4,  4],\n",
       "       [10, 10, 10],\n",
       "       [16, 16, 16]])"
      ]
     },
     "execution_count": 56,
     "metadata": {},
     "output_type": "execute_result"
    }
   ],
   "source": [
    "matrixB"
   ]
  },
  {
   "cell_type": "code",
   "execution_count": 58,
   "id": "1885b6b6",
   "metadata": {},
   "outputs": [
    {
     "name": "stdout",
     "output_type": "stream",
     "text": [
      "\n",
      "Using Boolean Indexing:\n",
      "Even elements: [2 4 6 8]\n"
     ]
    }
   ],
   "source": [
    "\n",
    "# Using boolean indexing\n",
    "bool_idx = (matrixA % 2 == 0) # Find even elements\n",
    "print('\\nUsing Boolean Indexing:')\n",
    "print('Even elements:', matrixA[bool_idx])"
   ]
  },
  {
   "cell_type": "code",
   "execution_count": 59,
   "id": "3ee15de8",
   "metadata": {},
   "outputs": [
    {
     "data": {
      "text/plain": [
       "array([[1, 2, 3],\n",
       "       [4, 5, 6],\n",
       "       [7, 8, 9]])"
      ]
     },
     "execution_count": 59,
     "metadata": {},
     "output_type": "execute_result"
    }
   ],
   "source": [
    "matrixA"
   ]
  },
  {
   "cell_type": "code",
   "execution_count": 60,
   "id": "43fc3c17",
   "metadata": {},
   "outputs": [
    {
     "data": {
      "text/plain": [
       "array([[2, 3],\n",
       "       [5, 6]])"
      ]
     },
     "execution_count": 60,
     "metadata": {},
     "output_type": "execute_result"
    }
   ],
   "source": [
    "matrixA[:2,1:]"
   ]
  },
  {
   "cell_type": "code",
   "execution_count": 63,
   "id": "be3aa2b6",
   "metadata": {},
   "outputs": [
    {
     "data": {
      "text/plain": [
       "array([[1, 2],\n",
       "       [4, 5],\n",
       "       [7, 8]])"
      ]
     },
     "execution_count": 63,
     "metadata": {},
     "output_type": "execute_result"
    }
   ],
   "source": [
    "matrixA[:,:2]"
   ]
  },
  {
   "cell_type": "code",
   "execution_count": 68,
   "id": "1d5d4feb",
   "metadata": {},
   "outputs": [
    {
     "data": {
      "text/plain": [
       "array([[1, 2],\n",
       "       [4, 5]])"
      ]
     },
     "execution_count": 68,
     "metadata": {},
     "output_type": "execute_result"
    }
   ],
   "source": [
    "matrixA[:2,:2]"
   ]
  },
  {
   "cell_type": "markdown",
   "id": "e2beab17",
   "metadata": {},
   "source": [
    "## Boolean Indexing"
   ]
  },
  {
   "cell_type": "code",
   "execution_count": 69,
   "id": "134b65d5",
   "metadata": {},
   "outputs": [],
   "source": [
    "names = np.array([\"Bob\",\"Joe\",\"Will\",\"Bob\",\"Will\",\"Joe\",\"Joe\"])"
   ]
  },
  {
   "cell_type": "code",
   "execution_count": 70,
   "id": "9447c08f",
   "metadata": {},
   "outputs": [
    {
     "data": {
      "text/plain": [
       "array(['Bob', 'Joe', 'Will', 'Bob', 'Will', 'Joe', 'Joe'], dtype='<U4')"
      ]
     },
     "execution_count": 70,
     "metadata": {},
     "output_type": "execute_result"
    }
   ],
   "source": [
    "names"
   ]
  },
  {
   "cell_type": "code",
   "execution_count": 71,
   "id": "f4ed86ce",
   "metadata": {},
   "outputs": [],
   "source": [
    "data = np.random.randn(7,4)"
   ]
  },
  {
   "cell_type": "code",
   "execution_count": 72,
   "id": "ecf16a0e",
   "metadata": {},
   "outputs": [
    {
     "data": {
      "text/plain": [
       "array([[-0.93540522,  0.89753513, -0.35196612, -1.34973238],\n",
       "       [ 0.53297625,  1.19882923,  0.46778963,  0.24329565],\n",
       "       [-0.1292363 , -0.13846967, -0.29641874, -1.18060202],\n",
       "       [-0.05506795,  1.10026095, -0.63603646,  1.23602117],\n",
       "       [-0.25212036,  0.98744472, -1.10189491, -0.0380938 ],\n",
       "       [ 2.24542256,  1.75212285, -0.47069363, -0.97464278],\n",
       "       [ 0.06525564,  1.05297339, -0.62528988, -0.00639458]])"
      ]
     },
     "execution_count": 72,
     "metadata": {},
     "output_type": "execute_result"
    }
   ],
   "source": [
    "data"
   ]
  },
  {
   "cell_type": "code",
   "execution_count": 73,
   "id": "aafe5186",
   "metadata": {},
   "outputs": [
    {
     "data": {
      "text/plain": [
       "array([ True, False, False,  True, False, False, False])"
      ]
     },
     "execution_count": 73,
     "metadata": {},
     "output_type": "execute_result"
    }
   ],
   "source": [
    "names == \"Bob\""
   ]
  },
  {
   "cell_type": "code",
   "execution_count": 74,
   "id": "917a5ece",
   "metadata": {},
   "outputs": [
    {
     "data": {
      "text/plain": [
       "array([[-0.93540522,  0.89753513, -0.35196612, -1.34973238],\n",
       "       [-0.05506795,  1.10026095, -0.63603646,  1.23602117]])"
      ]
     },
     "execution_count": 74,
     "metadata": {},
     "output_type": "execute_result"
    }
   ],
   "source": [
    "data[names==\"Bob\"]"
   ]
  },
  {
   "cell_type": "code",
   "execution_count": 76,
   "id": "31fe7868",
   "metadata": {},
   "outputs": [
    {
     "data": {
      "text/plain": [
       "array([[-0.35196612, -1.34973238],\n",
       "       [-0.63603646,  1.23602117]])"
      ]
     },
     "execution_count": 76,
     "metadata": {},
     "output_type": "execute_result"
    }
   ],
   "source": [
    "data[names==\"Bob\",2:]"
   ]
  },
  {
   "cell_type": "code",
   "execution_count": 88,
   "id": "dcf038f8",
   "metadata": {},
   "outputs": [],
   "source": [
    "d1 = np.random.randn(3,4)"
   ]
  },
  {
   "cell_type": "code",
   "execution_count": 89,
   "id": "1cefa582",
   "metadata": {},
   "outputs": [
    {
     "data": {
      "text/plain": [
       "array([[-1.19198609,  1.35551627,  0.72401869, -0.4430662 ],\n",
       "       [-1.80866208,  0.70103817,  0.62492958, -0.43614592],\n",
       "       [-1.80686242,  0.32991142,  0.88172472,  0.48673934]])"
      ]
     },
     "execution_count": 89,
     "metadata": {},
     "output_type": "execute_result"
    }
   ],
   "source": [
    "d1"
   ]
  },
  {
   "cell_type": "code",
   "execution_count": 94,
   "id": "83519722",
   "metadata": {},
   "outputs": [],
   "source": [
    "b = d1 < -1.0"
   ]
  },
  {
   "cell_type": "code",
   "execution_count": 95,
   "id": "ce77c792",
   "metadata": {},
   "outputs": [
    {
     "data": {
      "text/plain": [
       "array([[ True, False, False, False],\n",
       "       [ True, False, False, False],\n",
       "       [ True, False, False, False]])"
      ]
     },
     "execution_count": 95,
     "metadata": {},
     "output_type": "execute_result"
    }
   ],
   "source": [
    "b"
   ]
  },
  {
   "cell_type": "code",
   "execution_count": 96,
   "id": "5ca43868",
   "metadata": {},
   "outputs": [
    {
     "data": {
      "text/plain": [
       "array([-1.19198609, -1.80866208, -1.80686242])"
      ]
     },
     "execution_count": 96,
     "metadata": {},
     "output_type": "execute_result"
    }
   ],
   "source": [
    "d1[b]"
   ]
  },
  {
   "cell_type": "code",
   "execution_count": 110,
   "id": "d9cc15ac",
   "metadata": {},
   "outputs": [],
   "source": [
    "mask = (names == \"Bob\") | (names == \"Will\")"
   ]
  },
  {
   "cell_type": "code",
   "execution_count": 111,
   "id": "22b66eb7",
   "metadata": {},
   "outputs": [
    {
     "data": {
      "text/plain": [
       "array([ True, False,  True,  True,  True, False, False])"
      ]
     },
     "execution_count": 111,
     "metadata": {},
     "output_type": "execute_result"
    }
   ],
   "source": [
    "mask"
   ]
  },
  {
   "cell_type": "code",
   "execution_count": 112,
   "id": "22c6c87a",
   "metadata": {},
   "outputs": [
    {
     "data": {
      "text/plain": [
       "(4, 4)"
      ]
     },
     "execution_count": 112,
     "metadata": {},
     "output_type": "execute_result"
    }
   ],
   "source": [
    "data[mask].shape"
   ]
  },
  {
   "cell_type": "code",
   "execution_count": 113,
   "id": "5cc4d2e4",
   "metadata": {},
   "outputs": [],
   "source": [
    "d1 = abs(np.random.randn(7,4))"
   ]
  },
  {
   "cell_type": "code",
   "execution_count": 114,
   "id": "6fe45df5",
   "metadata": {},
   "outputs": [
    {
     "data": {
      "text/plain": [
       "array([[0.24632108, 0.10518961, 0.11150074, 0.46293589],\n",
       "       [0.53915592, 0.18867673, 1.17790117, 0.22355283],\n",
       "       [0.49067985, 1.21862094, 0.11105186, 0.42000394],\n",
       "       [1.13542252, 1.29011117, 0.57091173, 0.81527992],\n",
       "       [0.66391354, 0.54688314, 0.64161959, 0.31327056],\n",
       "       [1.59050145, 0.40471605, 0.78245738, 1.26715495],\n",
       "       [0.66472492, 1.17805478, 0.72054755, 0.4707474 ]])"
      ]
     },
     "execution_count": 114,
     "metadata": {},
     "output_type": "execute_result"
    }
   ],
   "source": [
    "d1"
   ]
  },
  {
   "cell_type": "code",
   "execution_count": 115,
   "id": "213085bf",
   "metadata": {},
   "outputs": [
    {
     "data": {
      "text/plain": [
       "(7, 4)"
      ]
     },
     "execution_count": 115,
     "metadata": {},
     "output_type": "execute_result"
    }
   ],
   "source": [
    "d1.shape"
   ]
  },
  {
   "cell_type": "code",
   "execution_count": 116,
   "id": "9a98e9ca",
   "metadata": {},
   "outputs": [
    {
     "data": {
      "text/plain": [
       "array([[0.24632108, 0.10518961, 0.11150074, 0.46293589],\n",
       "       [0.49067985, 1.21862094, 0.11105186, 0.42000394],\n",
       "       [1.13542252, 1.29011117, 0.57091173, 0.81527992],\n",
       "       [0.66391354, 0.54688314, 0.64161959, 0.31327056]])"
      ]
     },
     "execution_count": 116,
     "metadata": {},
     "output_type": "execute_result"
    }
   ],
   "source": [
    "d1[mask]"
   ]
  },
  {
   "cell_type": "code",
   "execution_count": 117,
   "id": "4370a2e5",
   "metadata": {},
   "outputs": [
    {
     "data": {
      "text/plain": [
       "(4, 4)"
      ]
     },
     "execution_count": 117,
     "metadata": {},
     "output_type": "execute_result"
    }
   ],
   "source": [
    "d1[mask].shape"
   ]
  },
  {
   "cell_type": "code",
   "execution_count": 121,
   "id": "e1bef161",
   "metadata": {},
   "outputs": [],
   "source": [
    "data[data < 0] = 0"
   ]
  },
  {
   "cell_type": "code",
   "execution_count": 122,
   "id": "af4239ed",
   "metadata": {},
   "outputs": [
    {
     "data": {
      "text/plain": [
       "array([[0.        , 0.89753513, 0.        , 0.        ],\n",
       "       [0.53297625, 1.19882923, 0.46778963, 0.24329565],\n",
       "       [0.        , 0.        , 0.        , 0.        ],\n",
       "       [0.        , 1.10026095, 0.        , 1.23602117],\n",
       "       [0.        , 0.98744472, 0.        , 0.        ],\n",
       "       [2.24542256, 1.75212285, 0.        , 0.        ],\n",
       "       [0.06525564, 1.05297339, 0.        , 0.        ]])"
      ]
     },
     "execution_count": 122,
     "metadata": {},
     "output_type": "execute_result"
    }
   ],
   "source": [
    "data"
   ]
  },
  {
   "cell_type": "code",
   "execution_count": 123,
   "id": "7306f609",
   "metadata": {},
   "outputs": [],
   "source": [
    "data[names != 'Joe'] = 7"
   ]
  },
  {
   "cell_type": "code",
   "execution_count": 124,
   "id": "bec2168f",
   "metadata": {},
   "outputs": [
    {
     "data": {
      "text/plain": [
       "array([[7.        , 7.        , 7.        , 7.        ],\n",
       "       [0.53297625, 1.19882923, 0.46778963, 0.24329565],\n",
       "       [7.        , 7.        , 7.        , 7.        ],\n",
       "       [7.        , 7.        , 7.        , 7.        ],\n",
       "       [7.        , 7.        , 7.        , 7.        ],\n",
       "       [2.24542256, 1.75212285, 0.        , 0.        ],\n",
       "       [0.06525564, 1.05297339, 0.        , 0.        ]])"
      ]
     },
     "execution_count": 124,
     "metadata": {},
     "output_type": "execute_result"
    }
   ],
   "source": [
    "data"
   ]
  },
  {
   "cell_type": "code",
   "execution_count": 125,
   "id": "8b010b2f",
   "metadata": {},
   "outputs": [
    {
     "data": {
      "text/plain": [
       "array([ True, False,  True,  True,  True, False, False])"
      ]
     },
     "execution_count": 125,
     "metadata": {},
     "output_type": "execute_result"
    }
   ],
   "source": [
    "names != 'Joe'"
   ]
  },
  {
   "cell_type": "code",
   "execution_count": null,
   "id": "e66e1562",
   "metadata": {},
   "outputs": [],
   "source": []
  }
 ],
 "metadata": {
  "kernelspec": {
   "display_name": "Python 3 (ipykernel)",
   "language": "python",
   "name": "python3"
  },
  "language_info": {
   "codemirror_mode": {
    "name": "ipython",
    "version": 3
   },
   "file_extension": ".py",
   "mimetype": "text/x-python",
   "name": "python",
   "nbconvert_exporter": "python",
   "pygments_lexer": "ipython3",
   "version": "3.11.5"
  }
 },
 "nbformat": 4,
 "nbformat_minor": 5
}
