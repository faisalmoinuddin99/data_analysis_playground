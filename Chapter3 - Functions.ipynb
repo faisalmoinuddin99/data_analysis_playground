{
 "cells": [
  {
   "cell_type": "markdown",
   "id": "bba2896a",
   "metadata": {},
   "source": [
    "## Anonymous (Lambda) Functions"
   ]
  },
  {
   "cell_type": "code",
   "execution_count": 3,
   "id": "c942b605",
   "metadata": {},
   "outputs": [],
   "source": [
    "import numpy as np"
   ]
  },
  {
   "cell_type": "code",
   "execution_count": 1,
   "id": "000c2c69",
   "metadata": {},
   "outputs": [],
   "source": [
    "def normal_function(param1):\n",
    "    return param1 * 2"
   ]
  },
  {
   "cell_type": "code",
   "execution_count": 2,
   "id": "68c427ea",
   "metadata": {},
   "outputs": [
    {
     "name": "stdout",
     "output_type": "stream",
     "text": [
      "4\n"
     ]
    }
   ],
   "source": [
    "print(normal_function(2))"
   ]
  },
  {
   "cell_type": "code",
   "execution_count": 15,
   "id": "cdb19b66",
   "metadata": {},
   "outputs": [],
   "source": [
    "square = lambda param1: param1 * 2"
   ]
  },
  {
   "cell_type": "code",
   "execution_count": 16,
   "id": "78332b9c",
   "metadata": {},
   "outputs": [
    {
     "name": "stdout",
     "output_type": "stream",
     "text": [
      "4\n"
     ]
    }
   ],
   "source": [
    "print(square(2))"
   ]
  },
  {
   "cell_type": "code",
   "execution_count": 17,
   "id": "02aa9dcc",
   "metadata": {},
   "outputs": [],
   "source": [
    "def normal_function2(param):\n",
    "    print(param)"
   ]
  },
  {
   "cell_type": "code",
   "execution_count": 18,
   "id": "e41dd7b6",
   "metadata": {},
   "outputs": [
    {
     "name": "stdout",
     "output_type": "stream",
     "text": [
      "<function <lambda> at 0x7fb13410f4c0>\n"
     ]
    }
   ],
   "source": [
    "normal_function2(square)"
   ]
  },
  {
   "cell_type": "code",
   "execution_count": 21,
   "id": "9da0cebf",
   "metadata": {},
   "outputs": [
    {
     "data": {
      "text/plain": [
       "[16, 25, 9, 1, 49]"
      ]
     },
     "execution_count": 21,
     "metadata": {},
     "output_type": "execute_result"
    }
   ],
   "source": [
    "def apply_to_list(lst,f):\n",
    "    return [f(x) for x in lst]\n",
    "\n",
    "\n",
    "myList = [4,5,3,1,7]\n",
    "\n",
    "apply_to_list(myList,lambda x : x**2)"
   ]
  },
  {
   "cell_type": "code",
   "execution_count": 22,
   "id": "c9ea3bf9",
   "metadata": {},
   "outputs": [],
   "source": [
    "import numpy as np"
   ]
  },
  {
   "cell_type": "code",
   "execution_count": 23,
   "id": "58125de8",
   "metadata": {},
   "outputs": [],
   "source": [
    "my_arr = np.arange(1000000)"
   ]
  },
  {
   "cell_type": "code",
   "execution_count": 24,
   "id": "bcf0367a",
   "metadata": {},
   "outputs": [],
   "source": [
    "my_list = list(range(1000000))"
   ]
  },
  {
   "cell_type": "code",
   "execution_count": 25,
   "id": "6201255a",
   "metadata": {},
   "outputs": [
    {
     "name": "stdout",
     "output_type": "stream",
     "text": [
      "CPU times: user 20.7 ms, sys: 17.9 ms, total: 38.6 ms\n",
      "Wall time: 37.8 ms\n"
     ]
    }
   ],
   "source": [
    "%time for _ in range(10): my_arr2 = my_arr * 2"
   ]
  },
  {
   "cell_type": "code",
   "execution_count": 26,
   "id": "d16b0678",
   "metadata": {},
   "outputs": [
    {
     "name": "stdout",
     "output_type": "stream",
     "text": [
      "CPU times: user 297 ms, sys: 170 ms, total: 467 ms\n",
      "Wall time: 465 ms\n"
     ]
    }
   ],
   "source": [
    "%time for _ in range(10): my_list2 = [x*2 for x in my_list]"
   ]
  },
  {
   "cell_type": "code",
   "execution_count": 38,
   "id": "84669d2d",
   "metadata": {},
   "outputs": [],
   "source": [
    "data = np.array([[1,2,3],[4,5,6]])"
   ]
  },
  {
   "cell_type": "code",
   "execution_count": 39,
   "id": "3c134a35",
   "metadata": {},
   "outputs": [
    {
     "data": {
      "text/plain": [
       "array([[1, 2, 3],\n",
       "       [4, 5, 6]])"
      ]
     },
     "execution_count": 39,
     "metadata": {},
     "output_type": "execute_result"
    }
   ],
   "source": [
    "data"
   ]
  },
  {
   "cell_type": "code",
   "execution_count": 40,
   "id": "961648a0",
   "metadata": {},
   "outputs": [
    {
     "data": {
      "text/plain": [
       "array([[10, 20, 30],\n",
       "       [40, 50, 60]])"
      ]
     },
     "execution_count": 40,
     "metadata": {},
     "output_type": "execute_result"
    }
   ],
   "source": [
    "data * 10"
   ]
  },
  {
   "cell_type": "code",
   "execution_count": 43,
   "id": "9a58f9cc",
   "metadata": {},
   "outputs": [
    {
     "data": {
      "text/plain": [
       "array([[ 2,  4,  6],\n",
       "       [ 8, 10, 12]])"
      ]
     },
     "execution_count": 43,
     "metadata": {},
     "output_type": "execute_result"
    }
   ],
   "source": [
    "data + data"
   ]
  },
  {
   "cell_type": "code",
   "execution_count": 44,
   "id": "4e9ea26b",
   "metadata": {},
   "outputs": [],
   "source": [
    "data = np.random.randn(2,3)"
   ]
  },
  {
   "cell_type": "code",
   "execution_count": 58,
   "id": "39df36bb",
   "metadata": {},
   "outputs": [
    {
     "data": {
      "text/plain": [
       "array([[-1.16471564,  0.25664773, -0.34404476],\n",
       "       [ 1.38141875,  0.84882524, -0.25231339]])"
      ]
     },
     "execution_count": 58,
     "metadata": {},
     "output_type": "execute_result"
    }
   ],
   "source": [
    "data"
   ]
  },
  {
   "cell_type": "code",
   "execution_count": 59,
   "id": "1519d8f1",
   "metadata": {},
   "outputs": [
    {
     "data": {
      "text/plain": [
       "array([[-11.64715638,   2.56647726,  -3.44044763],\n",
       "       [ 13.81418748,   8.48825243,  -2.52313394]])"
      ]
     },
     "execution_count": 59,
     "metadata": {},
     "output_type": "execute_result"
    }
   ],
   "source": [
    "data * 10"
   ]
  },
  {
   "cell_type": "code",
   "execution_count": 60,
   "id": "98f403d8",
   "metadata": {},
   "outputs": [
    {
     "data": {
      "text/plain": [
       "array([[-2.32943128,  0.51329545, -0.68808953],\n",
       "       [ 2.7628375 ,  1.69765049, -0.50462679]])"
      ]
     },
     "execution_count": 60,
     "metadata": {},
     "output_type": "execute_result"
    }
   ],
   "source": [
    "data + data"
   ]
  },
  {
   "cell_type": "code",
   "execution_count": 52,
   "id": "68f97f25",
   "metadata": {},
   "outputs": [
    {
     "name": "stdout",
     "output_type": "stream",
     "text": [
      "madam\n",
      "nitin\n",
      "naman\n"
     ]
    }
   ],
   "source": [
    "lst = ['kajol','madam','nitin','naman','narin']\n",
    "\n",
    "for i in lst:\n",
    "    if i == i[::-1]:\n",
    "        print(i)"
   ]
  },
  {
   "cell_type": "code",
   "execution_count": 53,
   "id": "ee737c10",
   "metadata": {},
   "outputs": [
    {
     "name": "stdout",
     "output_type": "stream",
     "text": [
      "python\n",
      "analyst\n"
     ]
    }
   ],
   "source": [
    "#print the elements having length greater than  5 from the list.\n",
    "\n",
    "k = ['python','data','analyst','DS']\n",
    "\n",
    "for i in k:\n",
    "    if len(i) > 5:\n",
    "        print(i)"
   ]
  },
  {
   "cell_type": "code",
   "execution_count": 54,
   "id": "09e91600",
   "metadata": {},
   "outputs": [
    {
     "name": "stdout",
     "output_type": "stream",
     "text": [
      "python\n",
      "data\n",
      "DS\n"
     ]
    }
   ],
   "source": [
    "# print the elements having even length\n",
    "\n",
    "for i in k:\n",
    "    if len(i) % 2 == 0:\n",
    "        print(i)"
   ]
  },
  {
   "cell_type": "code",
   "execution_count": 55,
   "id": "28dc50ad",
   "metadata": {},
   "outputs": [
    {
     "name": "stdout",
     "output_type": "stream",
     "text": [
      "nohtyp\n",
      "avaj\n",
      "atad\n",
      "tsitneics\n"
     ]
    }
   ],
   "source": [
    "# print the reverse of every element in list \n",
    "\n",
    "z = ['python','java','data','scientist']\n",
    "\n",
    "for i in z:\n",
    "    print(i[::-1])"
   ]
  },
  {
   "cell_type": "markdown",
   "id": "3400da12",
   "metadata": {},
   "source": [
    "### Creating ndarrays"
   ]
  },
  {
   "cell_type": "code",
   "execution_count": 62,
   "id": "449eeed6",
   "metadata": {},
   "outputs": [],
   "source": [
    "data1 = [6,7.5,8,0,1]\n",
    "\n",
    "arr1 = np.array(data1)"
   ]
  },
  {
   "cell_type": "code",
   "execution_count": 63,
   "id": "0b9e856e",
   "metadata": {},
   "outputs": [
    {
     "data": {
      "text/plain": [
       "array([6. , 7.5, 8. , 0. , 1. ])"
      ]
     },
     "execution_count": 63,
     "metadata": {},
     "output_type": "execute_result"
    }
   ],
   "source": [
    "arr1"
   ]
  },
  {
   "cell_type": "code",
   "execution_count": 65,
   "id": "d2833fcf",
   "metadata": {},
   "outputs": [
    {
     "name": "stdout",
     "output_type": "stream",
     "text": [
      "lojak\n",
      "5\n",
      "5\n",
      "5\n",
      "niran\n"
     ]
    }
   ],
   "source": [
    "# print the reverse of element if it is palindrome else print the length \n",
    "lst = ['kajol','madam','nitin','naman','narin']\n",
    "\n",
    "for x in lst:\n",
    "    if x == x[::-1]:\n",
    "        print(len(x))\n",
    "    else:\n",
    "        print(x[::-1])\n"
   ]
  },
  {
   "cell_type": "code",
   "execution_count": 67,
   "id": "68a8e7b8",
   "metadata": {},
   "outputs": [
    {
     "data": {
      "text/plain": [
       "(5,)"
      ]
     },
     "execution_count": 67,
     "metadata": {},
     "output_type": "execute_result"
    }
   ],
   "source": [
    "arr1.shape"
   ]
  },
  {
   "cell_type": "code",
   "execution_count": 69,
   "id": "64f75694",
   "metadata": {},
   "outputs": [
    {
     "data": {
      "text/plain": [
       "dtype('float64')"
      ]
     },
     "execution_count": 69,
     "metadata": {},
     "output_type": "execute_result"
    }
   ],
   "source": [
    "arr1.dtype"
   ]
  },
  {
   "cell_type": "code",
   "execution_count": 70,
   "id": "cb1aa1f9",
   "metadata": {},
   "outputs": [],
   "source": [
    "arr2 = np.array([[1,2,3,4],[5,6,7,8]])"
   ]
  },
  {
   "cell_type": "code",
   "execution_count": 71,
   "id": "9c51126a",
   "metadata": {},
   "outputs": [
    {
     "data": {
      "text/plain": [
       "array([[1, 2, 3, 4],\n",
       "       [5, 6, 7, 8]])"
      ]
     },
     "execution_count": 71,
     "metadata": {},
     "output_type": "execute_result"
    }
   ],
   "source": [
    "arr2"
   ]
  },
  {
   "cell_type": "code",
   "execution_count": 72,
   "id": "88deb8ae",
   "metadata": {},
   "outputs": [
    {
     "data": {
      "text/plain": [
       "(2, 4)"
      ]
     },
     "execution_count": 72,
     "metadata": {},
     "output_type": "execute_result"
    }
   ],
   "source": [
    "arr2.shape"
   ]
  },
  {
   "cell_type": "code",
   "execution_count": 73,
   "id": "c132176d",
   "metadata": {},
   "outputs": [
    {
     "data": {
      "text/plain": [
       "dtype('int64')"
      ]
     },
     "execution_count": 73,
     "metadata": {},
     "output_type": "execute_result"
    }
   ],
   "source": [
    "arr2.dtype"
   ]
  },
  {
   "cell_type": "code",
   "execution_count": 74,
   "id": "f4b1e58e",
   "metadata": {},
   "outputs": [
    {
     "data": {
      "text/plain": [
       "2"
      ]
     },
     "execution_count": 74,
     "metadata": {},
     "output_type": "execute_result"
    }
   ],
   "source": [
    "arr2.ndim"
   ]
  },
  {
   "cell_type": "code",
   "execution_count": 75,
   "id": "6e7dbd92",
   "metadata": {},
   "outputs": [
    {
     "data": {
      "text/plain": [
       "1"
      ]
     },
     "execution_count": 75,
     "metadata": {},
     "output_type": "execute_result"
    }
   ],
   "source": [
    "arr1.ndim"
   ]
  },
  {
   "cell_type": "code",
   "execution_count": 85,
   "id": "0fdc187e",
   "metadata": {},
   "outputs": [
    {
     "name": "stdout",
     "output_type": "stream",
     "text": [
      "30\n",
      "35\n",
      "40\n",
      "45\n",
      "50\n",
      "55\n",
      "60\n",
      "65\n",
      "70\n",
      "75\n",
      "80\n",
      "85\n",
      "90\n",
      "95\n",
      "100\n"
     ]
    }
   ],
   "source": [
    "# print the multiples of 5 which are greater than 25 in range of 1 to 100\n",
    "\n",
    "for i in range(1,101):\n",
    "    if i %5 == 0 and i > 25:\n",
    "        print(i)"
   ]
  },
  {
   "cell_type": "code",
   "execution_count": 87,
   "id": "4f2cf5e7",
   "metadata": {},
   "outputs": [
    {
     "data": {
      "text/plain": [
       "[30, 35, 40, 45, 50, 55, 60, 65, 70, 75, 80, 85, 90, 95, 100]"
      ]
     },
     "execution_count": 87,
     "metadata": {},
     "output_type": "execute_result"
    }
   ],
   "source": [
    "[x for x in range(1,101) if x%5==0 and x>25]"
   ]
  },
  {
   "cell_type": "code",
   "execution_count": 88,
   "id": "665a166f",
   "metadata": {},
   "outputs": [],
   "source": [
    "revenue = np.array([[180,200,220],[24,36,40],[12,18,20]])\n",
    "\n",
    "expenses = np.array([[80,90,100],[10,16,20],[8,10,10]])"
   ]
  },
  {
   "cell_type": "code",
   "execution_count": 89,
   "id": "448cf9db",
   "metadata": {},
   "outputs": [],
   "source": [
    "profit_loss = revenue - expenses"
   ]
  },
  {
   "cell_type": "code",
   "execution_count": 90,
   "id": "6a0a6dfc",
   "metadata": {},
   "outputs": [
    {
     "data": {
      "text/plain": [
       "array([[100, 110, 120],\n",
       "       [ 14,  20,  20],\n",
       "       [  4,   8,  10]])"
      ]
     },
     "execution_count": 90,
     "metadata": {},
     "output_type": "execute_result"
    }
   ],
   "source": [
    "profit_loss"
   ]
  },
  {
   "cell_type": "code",
   "execution_count": 1,
   "id": "89149607",
   "metadata": {},
   "outputs": [],
   "source": [
    "data3 = [[1,2,3,4],[5,6,7,8]]"
   ]
  },
  {
   "cell_type": "code",
   "execution_count": 5,
   "id": "0514e6ad",
   "metadata": {},
   "outputs": [],
   "source": [
    "arrData3 = np.array(data3)"
   ]
  },
  {
   "cell_type": "code",
   "execution_count": 31,
   "id": "5f98d2b8",
   "metadata": {},
   "outputs": [
    {
     "data": {
      "text/plain": [
       "array([[1, 2, 3, 4],\n",
       "       [5, 6, 7, 8]])"
      ]
     },
     "execution_count": 31,
     "metadata": {},
     "output_type": "execute_result"
    }
   ],
   "source": [
    "arrData3"
   ]
  },
  {
   "cell_type": "code",
   "execution_count": 6,
   "id": "7f99fee0",
   "metadata": {},
   "outputs": [
    {
     "data": {
      "text/plain": [
       "(2, 4)"
      ]
     },
     "execution_count": 6,
     "metadata": {},
     "output_type": "execute_result"
    }
   ],
   "source": [
    "# check the shape and dimensions of arrData3\n",
    "\n",
    "arrData3.shape"
   ]
  },
  {
   "cell_type": "code",
   "execution_count": 8,
   "id": "d1b483a8",
   "metadata": {},
   "outputs": [
    {
     "data": {
      "text/plain": [
       "2"
      ]
     },
     "execution_count": 8,
     "metadata": {},
     "output_type": "execute_result"
    }
   ],
   "source": [
    "arrData3.ndim"
   ]
  },
  {
   "cell_type": "code",
   "execution_count": 10,
   "id": "855db4a9",
   "metadata": {},
   "outputs": [
    {
     "data": {
      "text/plain": [
       "dtype('int64')"
      ]
     },
     "execution_count": 10,
     "metadata": {},
     "output_type": "execute_result"
    }
   ],
   "source": [
    "arrData3.dtype"
   ]
  },
  {
   "cell_type": "code",
   "execution_count": 27,
   "id": "cbe09702",
   "metadata": {},
   "outputs": [],
   "source": [
    "zMatrix = np.zeros(10)"
   ]
  },
  {
   "cell_type": "code",
   "execution_count": 15,
   "id": "cff485dc",
   "metadata": {},
   "outputs": [],
   "source": [
    "zerosMatrix = np.zeros((3,2))"
   ]
  },
  {
   "cell_type": "code",
   "execution_count": 16,
   "id": "550bd976",
   "metadata": {},
   "outputs": [
    {
     "data": {
      "text/plain": [
       "dtype('float64')"
      ]
     },
     "execution_count": 16,
     "metadata": {},
     "output_type": "execute_result"
    }
   ],
   "source": [
    "zerosMatrix.dtype"
   ]
  },
  {
   "cell_type": "code",
   "execution_count": 17,
   "id": "9c6bb7a4",
   "metadata": {},
   "outputs": [
    {
     "data": {
      "text/plain": [
       "2"
      ]
     },
     "execution_count": 17,
     "metadata": {},
     "output_type": "execute_result"
    }
   ],
   "source": [
    "zerosMatrix.ndim"
   ]
  },
  {
   "cell_type": "code",
   "execution_count": 18,
   "id": "7cdffc94",
   "metadata": {},
   "outputs": [
    {
     "data": {
      "text/plain": [
       "(3, 2)"
      ]
     },
     "execution_count": 18,
     "metadata": {},
     "output_type": "execute_result"
    }
   ],
   "source": [
    "zerosMatrix.shape"
   ]
  },
  {
   "cell_type": "code",
   "execution_count": 19,
   "id": "470ee7d7",
   "metadata": {},
   "outputs": [
    {
     "data": {
      "text/plain": [
       "array([[0., 0.],\n",
       "       [0., 0.],\n",
       "       [0., 0.]])"
      ]
     },
     "execution_count": 19,
     "metadata": {},
     "output_type": "execute_result"
    }
   ],
   "source": [
    "zerosMatrix"
   ]
  },
  {
   "cell_type": "code",
   "execution_count": 20,
   "id": "c191f6fd",
   "metadata": {},
   "outputs": [],
   "source": [
    "emptyMatrix = np.empty((2,3))"
   ]
  },
  {
   "cell_type": "code",
   "execution_count": 21,
   "id": "64b8d6c2",
   "metadata": {},
   "outputs": [
    {
     "data": {
      "text/plain": [
       "array([[0., 0., 0.],\n",
       "       [0., 0., 0.]])"
      ]
     },
     "execution_count": 21,
     "metadata": {},
     "output_type": "execute_result"
    }
   ],
   "source": [
    "emptyMatrix"
   ]
  },
  {
   "cell_type": "code",
   "execution_count": 22,
   "id": "4a9a191a",
   "metadata": {},
   "outputs": [
    {
     "data": {
      "text/plain": [
       "dtype('float64')"
      ]
     },
     "execution_count": 22,
     "metadata": {},
     "output_type": "execute_result"
    }
   ],
   "source": [
    "emptyMatrix.dtype"
   ]
  },
  {
   "cell_type": "code",
   "execution_count": 23,
   "id": "4c358e8c",
   "metadata": {},
   "outputs": [
    {
     "data": {
      "text/plain": [
       "(2, 3)"
      ]
     },
     "execution_count": 23,
     "metadata": {},
     "output_type": "execute_result"
    }
   ],
   "source": [
    "emptyMatrix.shape"
   ]
  },
  {
   "cell_type": "code",
   "execution_count": 24,
   "id": "9c902c76",
   "metadata": {},
   "outputs": [
    {
     "data": {
      "text/plain": [
       "2"
      ]
     },
     "execution_count": 24,
     "metadata": {},
     "output_type": "execute_result"
    }
   ],
   "source": [
    "emptyMatrix.ndim"
   ]
  },
  {
   "cell_type": "code",
   "execution_count": 26,
   "id": "04340ca2",
   "metadata": {},
   "outputs": [],
   "source": [
    "arangeMatrix = np.arange(10)"
   ]
  },
  {
   "cell_type": "code",
   "execution_count": 28,
   "id": "15627082",
   "metadata": {},
   "outputs": [
    {
     "data": {
      "text/plain": [
       "array([[0., 1., 2., 3., 4., 5., 6., 7., 8., 9.],\n",
       "       [0., 0., 0., 0., 0., 0., 0., 0., 0., 0.]])"
      ]
     },
     "execution_count": 28,
     "metadata": {},
     "output_type": "execute_result"
    }
   ],
   "source": [
    "np.array([arangeMatrix,zMatrix])"
   ]
  },
  {
   "cell_type": "code",
   "execution_count": 29,
   "id": "87b906f1",
   "metadata": {},
   "outputs": [],
   "source": [
    "lst = [1,4,5,2,4]\n",
    "\n",
    "asArray = np.asarray(lst)"
   ]
  },
  {
   "cell_type": "code",
   "execution_count": 30,
   "id": "60a7635f",
   "metadata": {},
   "outputs": [
    {
     "data": {
      "text/plain": [
       "array([1, 4, 5, 2, 4])"
      ]
     },
     "execution_count": 30,
     "metadata": {},
     "output_type": "execute_result"
    }
   ],
   "source": [
    "asArray"
   ]
  },
  {
   "cell_type": "code",
   "execution_count": 32,
   "id": "4cea60dc",
   "metadata": {},
   "outputs": [
    {
     "data": {
      "text/plain": [
       "dtype('int64')"
      ]
     },
     "execution_count": 32,
     "metadata": {},
     "output_type": "execute_result"
    }
   ],
   "source": [
    "asArray.dtype"
   ]
  },
  {
   "cell_type": "code",
   "execution_count": 33,
   "id": "75e2f543",
   "metadata": {},
   "outputs": [],
   "source": [
    "lst1 = [1.1,1.6,1.3,2.5]\n",
    "\n",
    "asArray1 = np.asarray(lst1)"
   ]
  },
  {
   "cell_type": "code",
   "execution_count": 34,
   "id": "68cb57ef",
   "metadata": {},
   "outputs": [
    {
     "data": {
      "text/plain": [
       "array([1.1, 1.6, 1.3, 2.5])"
      ]
     },
     "execution_count": 34,
     "metadata": {},
     "output_type": "execute_result"
    }
   ],
   "source": [
    "asArray1"
   ]
  },
  {
   "cell_type": "code",
   "execution_count": 35,
   "id": "8f846a88",
   "metadata": {},
   "outputs": [],
   "source": [
    "tp = (2,3,4,5,6)\n",
    "\n",
    "tpArr = np.array(tp)"
   ]
  },
  {
   "cell_type": "code",
   "execution_count": 36,
   "id": "13f4acee",
   "metadata": {},
   "outputs": [
    {
     "data": {
      "text/plain": [
       "array([2, 3, 4, 5, 6])"
      ]
     },
     "execution_count": 36,
     "metadata": {},
     "output_type": "execute_result"
    }
   ],
   "source": [
    "tpArr"
   ]
  },
  {
   "cell_type": "code",
   "execution_count": 37,
   "id": "6132b9e5",
   "metadata": {},
   "outputs": [
    {
     "data": {
      "text/plain": [
       "1"
      ]
     },
     "execution_count": 37,
     "metadata": {},
     "output_type": "execute_result"
    }
   ],
   "source": [
    "tpArr.ndim"
   ]
  },
  {
   "cell_type": "code",
   "execution_count": 38,
   "id": "4e59cd20",
   "metadata": {},
   "outputs": [
    {
     "data": {
      "text/plain": [
       "dtype('int64')"
      ]
     },
     "execution_count": 38,
     "metadata": {},
     "output_type": "execute_result"
    }
   ],
   "source": [
    "tpArr.dtype"
   ]
  },
  {
   "cell_type": "markdown",
   "id": "6bd22c8f",
   "metadata": {},
   "source": [
    "### Data types for ndarrays"
   ]
  },
  {
   "cell_type": "code",
   "execution_count": 39,
   "id": "e9af0334",
   "metadata": {},
   "outputs": [],
   "source": [
    "arr1 = np.array([1,2,3,4],dtype=np.float64)"
   ]
  },
  {
   "cell_type": "code",
   "execution_count": 40,
   "id": "415d284e",
   "metadata": {},
   "outputs": [
    {
     "data": {
      "text/plain": [
       "array([1., 2., 3., 4.])"
      ]
     },
     "execution_count": 40,
     "metadata": {},
     "output_type": "execute_result"
    }
   ],
   "source": [
    "arr1"
   ]
  },
  {
   "cell_type": "code",
   "execution_count": 53,
   "id": "8e4051c0",
   "metadata": {},
   "outputs": [],
   "source": [
    "arr1=np.array(tpArr)"
   ]
  },
  {
   "cell_type": "code",
   "execution_count": 54,
   "id": "acfd262f",
   "metadata": {},
   "outputs": [
    {
     "data": {
      "text/plain": [
       "array([2, 3, 4, 5, 6])"
      ]
     },
     "execution_count": 54,
     "metadata": {},
     "output_type": "execute_result"
    }
   ],
   "source": [
    "arr1"
   ]
  },
  {
   "cell_type": "code",
   "execution_count": 55,
   "id": "1c7a769a",
   "metadata": {},
   "outputs": [
    {
     "data": {
      "text/plain": [
       "dtype('int64')"
      ]
     },
     "execution_count": 55,
     "metadata": {},
     "output_type": "execute_result"
    }
   ],
   "source": [
    "arr1.dtype"
   ]
  },
  {
   "cell_type": "code",
   "execution_count": 56,
   "id": "e3db6e04",
   "metadata": {},
   "outputs": [
    {
     "data": {
      "text/plain": [
       "array([2., 3., 4., 5., 6.])"
      ]
     },
     "execution_count": 56,
     "metadata": {},
     "output_type": "execute_result"
    }
   ],
   "source": [
    "arr1.astype(np.float64)"
   ]
  },
  {
   "cell_type": "code",
   "execution_count": 57,
   "id": "7f9bd6dd",
   "metadata": {},
   "outputs": [
    {
     "data": {
      "text/plain": [
       "dtype('int64')"
      ]
     },
     "execution_count": 57,
     "metadata": {},
     "output_type": "execute_result"
    }
   ],
   "source": [
    "arr1.dtype"
   ]
  },
  {
   "cell_type": "code",
   "execution_count": 58,
   "id": "97743a01",
   "metadata": {},
   "outputs": [
    {
     "data": {
      "text/plain": [
       "array([2, 3, 4, 5, 6])"
      ]
     },
     "execution_count": 58,
     "metadata": {},
     "output_type": "execute_result"
    }
   ],
   "source": [
    "arr1"
   ]
  },
  {
   "cell_type": "code",
   "execution_count": 48,
   "id": "bcb76382",
   "metadata": {},
   "outputs": [
    {
     "data": {
      "text/plain": [
       "array([1, 2, 3, 4])"
      ]
     },
     "execution_count": 48,
     "metadata": {},
     "output_type": "execute_result"
    }
   ],
   "source": [
    "arr = np.array([1,2,3,4])\n",
    "arr"
   ]
  },
  {
   "cell_type": "code",
   "execution_count": 49,
   "id": "11417c09",
   "metadata": {},
   "outputs": [
    {
     "data": {
      "text/plain": [
       "dtype('int64')"
      ]
     },
     "execution_count": 49,
     "metadata": {},
     "output_type": "execute_result"
    }
   ],
   "source": [
    "arr.dtype"
   ]
  },
  {
   "cell_type": "code",
   "execution_count": 50,
   "id": "6be849b0",
   "metadata": {},
   "outputs": [
    {
     "data": {
      "text/plain": [
       "array([1., 2., 3., 4.])"
      ]
     },
     "execution_count": 50,
     "metadata": {},
     "output_type": "execute_result"
    }
   ],
   "source": [
    "float_arr = arr.astype(np.float64)\n",
    "\n",
    "float_arr"
   ]
  },
  {
   "cell_type": "code",
   "execution_count": 51,
   "id": "677c6ee0",
   "metadata": {},
   "outputs": [
    {
     "data": {
      "text/plain": [
       "dtype('float64')"
      ]
     },
     "execution_count": 51,
     "metadata": {},
     "output_type": "execute_result"
    }
   ],
   "source": [
    "float_arr.dtype"
   ]
  },
  {
   "cell_type": "code",
   "execution_count": 6,
   "id": "2e1c9c0c",
   "metadata": {},
   "outputs": [
    {
     "name": "stdout",
     "output_type": "stream",
     "text": [
      "<class 'list'>\n"
     ]
    }
   ],
   "source": [
    "lst=[565,100,555,934,404]\n",
    "\n",
    "print(type(lst))"
   ]
  },
  {
   "cell_type": "code",
   "execution_count": 7,
   "id": "7bb6ce52",
   "metadata": {},
   "outputs": [
    {
     "data": {
      "text/plain": [
       "[565, 100, 555, 934, 404]"
      ]
     },
     "execution_count": 7,
     "metadata": {},
     "output_type": "execute_result"
    }
   ],
   "source": [
    "lst"
   ]
  },
  {
   "cell_type": "code",
   "execution_count": 5,
   "id": "34a5eada",
   "metadata": {},
   "outputs": [
    {
     "data": {
      "text/plain": [
       "['565', '100', '555', '934', '404']"
      ]
     },
     "execution_count": 5,
     "metadata": {},
     "output_type": "execute_result"
    }
   ],
   "source": [
    "[str(x) for x in lst]"
   ]
  },
  {
   "cell_type": "code",
   "execution_count": 9,
   "id": "ab06abaa",
   "metadata": {},
   "outputs": [],
   "source": [
    "palindrom_lst = [str(x) for x in lst]"
   ]
  },
  {
   "cell_type": "code",
   "execution_count": 11,
   "id": "9e8f6b2d",
   "metadata": {},
   "outputs": [],
   "source": [
    "palindrom_lst = [x for x in palindrom_lst if x == x[::-1]]"
   ]
  },
  {
   "cell_type": "code",
   "execution_count": 12,
   "id": "d39b71f6",
   "metadata": {},
   "outputs": [
    {
     "data": {
      "text/plain": [
       "['565', '555', '404']"
      ]
     },
     "execution_count": 12,
     "metadata": {},
     "output_type": "execute_result"
    }
   ],
   "source": [
    "palindrom_lst"
   ]
  },
  {
   "cell_type": "code",
   "execution_count": 13,
   "id": "de2b7805",
   "metadata": {},
   "outputs": [
    {
     "data": {
      "text/plain": [
       "[565, 555, 404]"
      ]
     },
     "execution_count": 13,
     "metadata": {},
     "output_type": "execute_result"
    }
   ],
   "source": [
    "[int(x) for x in palindrom_lst]"
   ]
  },
  {
   "cell_type": "code",
   "execution_count": 14,
   "id": "f45a99c5",
   "metadata": {},
   "outputs": [],
   "source": [
    "def filterPalindrom(num):\n",
    "    return str(num) == str(num)[::-1]"
   ]
  },
  {
   "cell_type": "code",
   "execution_count": 15,
   "id": "72dd5b4d",
   "metadata": {},
   "outputs": [],
   "source": [
    "normal_distList = [565, 100, 555, 934, 404]"
   ]
  },
  {
   "cell_type": "code",
   "execution_count": 16,
   "id": "6fd853d5",
   "metadata": {},
   "outputs": [
    {
     "data": {
      "text/plain": [
       "[565, 100, 555, 934, 404]"
      ]
     },
     "execution_count": 16,
     "metadata": {},
     "output_type": "execute_result"
    }
   ],
   "source": [
    "normal_distList"
   ]
  },
  {
   "cell_type": "code",
   "execution_count": 17,
   "id": "2c1cf919",
   "metadata": {},
   "outputs": [],
   "source": [
    "palindrom_list = [x for x in normal_distList if filterPalindrom(x)]"
   ]
  },
  {
   "cell_type": "code",
   "execution_count": 18,
   "id": "7f89c18e",
   "metadata": {},
   "outputs": [
    {
     "data": {
      "text/plain": [
       "[565, 555, 404]"
      ]
     },
     "execution_count": 18,
     "metadata": {},
     "output_type": "execute_result"
    }
   ],
   "source": [
    "palindrom_list"
   ]
  },
  {
   "cell_type": "code",
   "execution_count": null,
   "id": "8461b0e5",
   "metadata": {},
   "outputs": [],
   "source": []
  }
 ],
 "metadata": {
  "kernelspec": {
   "display_name": "Python 3 (ipykernel)",
   "language": "python",
   "name": "python3"
  },
  "language_info": {
   "codemirror_mode": {
    "name": "ipython",
    "version": 3
   },
   "file_extension": ".py",
   "mimetype": "text/x-python",
   "name": "python",
   "nbconvert_exporter": "python",
   "pygments_lexer": "ipython3",
   "version": "3.11.5"
  }
 },
 "nbformat": 4,
 "nbformat_minor": 5
}
