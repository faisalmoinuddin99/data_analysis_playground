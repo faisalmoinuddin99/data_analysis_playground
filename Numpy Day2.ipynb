{
 "cells": [
  {
   "cell_type": "code",
   "execution_count": 1,
   "id": "20e87a89",
   "metadata": {},
   "outputs": [],
   "source": [
    "import numpy as np"
   ]
  },
  {
   "cell_type": "code",
   "execution_count": 2,
   "id": "c6dd84ac",
   "metadata": {},
   "outputs": [],
   "source": [
    "# Print the reverse of the strings present in given below list"
   ]
  },
  {
   "cell_type": "code",
   "execution_count": 4,
   "id": "f3a72f6d",
   "metadata": {},
   "outputs": [
    {
     "name": "stdout",
     "output_type": "stream",
     "text": [
      "hsirah\n",
      "saras\n",
      "ykcul\n",
      "sadnap\n"
     ]
    }
   ],
   "source": [
    "k = ['harish','saras','lucky','pandas']\n",
    "\n",
    "for i in k:\n",
    "    print(i[::-1])"
   ]
  },
  {
   "cell_type": "code",
   "execution_count": 7,
   "id": "65b21317",
   "metadata": {},
   "outputs": [
    {
     "name": "stdout",
     "output_type": "stream",
     "text": [
      "M o h d   F a i s a l   M o i n u d d i n   N a u s h a d   S u l e m a n "
     ]
    }
   ],
   "source": [
    "# print every letter of your name\n",
    "\n",
    "myName = \"Mohd Faisal Moinuddin Naushad Suleman\"\n",
    "\n",
    "for i in myName:\n",
    "    print(i, end=\" \")"
   ]
  },
  {
   "cell_type": "code",
   "execution_count": 9,
   "id": "db647085",
   "metadata": {},
   "outputs": [
    {
     "name": "stdout",
     "output_type": "stream",
     "text": [
      "dogg\n",
      "elephant\n"
     ]
    }
   ],
   "source": [
    "#Print the elements having even length from the list\n",
    "\n",
    "m = ['dogg','cat','elephant','horse']\n",
    "\n",
    "for i in m:\n",
    "    if len(i)%2 == 0:\n",
    "        print(i)"
   ]
  },
  {
   "cell_type": "code",
   "execution_count": 23,
   "id": "fdfbe693",
   "metadata": {},
   "outputs": [],
   "source": [
    "# print the same repeated digit numbers from 1 to 100\n",
    "\n",
    "def hasRepeatedDigits(param1):\n",
    "    num = str(param1)\n",
    "    return len(set(num)) < len(num)"
   ]
  },
  {
   "cell_type": "code",
   "execution_count": 29,
   "id": "e36a441e",
   "metadata": {},
   "outputs": [],
   "source": [
    "repeatedMatrix = np.array([x for x in range(1,101) if hasRepeatedDigits(x)])"
   ]
  },
  {
   "cell_type": "code",
   "execution_count": 27,
   "id": "c2589bf2",
   "metadata": {},
   "outputs": [
    {
     "name": "stdout",
     "output_type": "stream",
     "text": [
      "{'4'}\n",
      "1\n"
     ]
    }
   ],
   "source": [
    "str1= \"44\"\n",
    "check1 = set(str1)\n",
    "check2 = len(check1)\n",
    "\n",
    "print(check1)\n",
    "print(check2)"
   ]
  },
  {
   "cell_type": "code",
   "execution_count": 30,
   "id": "2b6eeeef",
   "metadata": {},
   "outputs": [
    {
     "data": {
      "text/plain": [
       "dtype('int64')"
      ]
     },
     "execution_count": 30,
     "metadata": {},
     "output_type": "execute_result"
    }
   ],
   "source": [
    "repeatedMatrix.dtype"
   ]
  },
  {
   "cell_type": "code",
   "execution_count": 31,
   "id": "408aeaf4",
   "metadata": {},
   "outputs": [
    {
     "data": {
      "text/plain": [
       "array([ 11,  22,  33,  44,  55,  66,  77,  88,  99, 100])"
      ]
     },
     "execution_count": 31,
     "metadata": {},
     "output_type": "execute_result"
    }
   ],
   "source": [
    "repeatedMatrix"
   ]
  },
  {
   "cell_type": "code",
   "execution_count": 32,
   "id": "d5730502",
   "metadata": {},
   "outputs": [
    {
     "name": "stdout",
     "output_type": "stream",
     "text": [
      "harish - 6\n",
      "saras - 5\n",
      "lucky - 5\n",
      "pandas - 6\n"
     ]
    }
   ],
   "source": [
    "k = ['harish','saras','lucky','pandas']\n",
    "\n",
    "for i in k:\n",
    "    print(f\"{i} - {len(i)}\")"
   ]
  },
  {
   "cell_type": "markdown",
   "id": "1cc2bbf4",
   "metadata": {},
   "source": [
    "### Basic Indexing and Slicing"
   ]
  },
  {
   "cell_type": "code",
   "execution_count": 37,
   "id": "ca6af52c",
   "metadata": {},
   "outputs": [],
   "source": [
    "arr = np.arange(1,11)"
   ]
  },
  {
   "cell_type": "code",
   "execution_count": 51,
   "id": "5b11f98e",
   "metadata": {},
   "outputs": [
    {
     "data": {
      "text/plain": [
       "array([ 1,  2,  3,  4,  5,  6,  7,  8,  9, 10])"
      ]
     },
     "execution_count": 51,
     "metadata": {},
     "output_type": "execute_result"
    }
   ],
   "source": [
    "arr"
   ]
  },
  {
   "cell_type": "code",
   "execution_count": 52,
   "id": "ed7dfe93",
   "metadata": {},
   "outputs": [],
   "source": [
    "addMatrix = arr + repeatedMatrix"
   ]
  },
  {
   "cell_type": "code",
   "execution_count": 53,
   "id": "e89fb7c0",
   "metadata": {},
   "outputs": [
    {
     "data": {
      "text/plain": [
       "array([ 12,  24,  36,  48,  60,  72,  84,  96, 108, 110])"
      ]
     },
     "execution_count": 53,
     "metadata": {},
     "output_type": "execute_result"
    }
   ],
   "source": [
    "addMatrix"
   ]
  },
  {
   "cell_type": "code",
   "execution_count": 57,
   "id": "6a33d08b",
   "metadata": {},
   "outputs": [],
   "source": [
    "addMatrix[4] = addMatrix[4] + 4"
   ]
  },
  {
   "cell_type": "code",
   "execution_count": 58,
   "id": "fc4180ad",
   "metadata": {},
   "outputs": [
    {
     "data": {
      "text/plain": [
       "array([ 12,  24,  36,  48,  64,  72,  84,  96, 108, 110])"
      ]
     },
     "execution_count": 58,
     "metadata": {},
     "output_type": "execute_result"
    }
   ],
   "source": [
    "addMatrix"
   ]
  },
  {
   "cell_type": "code",
   "execution_count": 59,
   "id": "4daa9098",
   "metadata": {},
   "outputs": [
    {
     "data": {
      "text/plain": [
       "array([110, 108,  96,  84,  72,  64,  48,  36,  24,  12])"
      ]
     },
     "execution_count": 59,
     "metadata": {},
     "output_type": "execute_result"
    }
   ],
   "source": [
    "addMatrix[::-1]"
   ]
  },
  {
   "cell_type": "code",
   "execution_count": 60,
   "id": "94f2a4d8",
   "metadata": {},
   "outputs": [
    {
     "data": {
      "text/plain": [
       "array([36, 48, 64])"
      ]
     },
     "execution_count": 60,
     "metadata": {},
     "output_type": "execute_result"
    }
   ],
   "source": [
    "addMatrix[2:5]"
   ]
  },
  {
   "cell_type": "code",
   "execution_count": 61,
   "id": "71c9f24c",
   "metadata": {},
   "outputs": [],
   "source": [
    "addMatrix[5:7] = 999"
   ]
  },
  {
   "cell_type": "code",
   "execution_count": 62,
   "id": "fcc16233",
   "metadata": {},
   "outputs": [
    {
     "data": {
      "text/plain": [
       "array([ 12,  24,  36,  48,  64, 999, 999,  96, 108, 110])"
      ]
     },
     "execution_count": 62,
     "metadata": {},
     "output_type": "execute_result"
    }
   ],
   "source": [
    "addMatrix"
   ]
  },
  {
   "cell_type": "code",
   "execution_count": 63,
   "id": "bec5e698",
   "metadata": {},
   "outputs": [],
   "source": [
    "arr_slic = addMatrix[5:7]"
   ]
  },
  {
   "cell_type": "code",
   "execution_count": 64,
   "id": "b010ed1a",
   "metadata": {},
   "outputs": [
    {
     "data": {
      "text/plain": [
       "array([999, 999])"
      ]
     },
     "execution_count": 64,
     "metadata": {},
     "output_type": "execute_result"
    }
   ],
   "source": [
    "arr_slic"
   ]
  },
  {
   "cell_type": "code",
   "execution_count": 65,
   "id": "ad3e0600",
   "metadata": {},
   "outputs": [],
   "source": [
    "arr_slic[1] = 12345"
   ]
  },
  {
   "cell_type": "code",
   "execution_count": 66,
   "id": "ba909445",
   "metadata": {},
   "outputs": [
    {
     "data": {
      "text/plain": [
       "array([   12,    24,    36,    48,    64,   999, 12345,    96,   108,\n",
       "         110])"
      ]
     },
     "execution_count": 66,
     "metadata": {},
     "output_type": "execute_result"
    }
   ],
   "source": [
    "addMatrix"
   ]
  },
  {
   "cell_type": "code",
   "execution_count": 67,
   "id": "84260076",
   "metadata": {},
   "outputs": [
    {
     "data": {
      "text/plain": [
       "array([  999, 12345])"
      ]
     },
     "execution_count": 67,
     "metadata": {},
     "output_type": "execute_result"
    }
   ],
   "source": [
    "arr_slic"
   ]
  },
  {
   "cell_type": "code",
   "execution_count": 86,
   "id": "3776dad2",
   "metadata": {},
   "outputs": [],
   "source": [
    "matrix2DArr = np.array([[1,2,3],[4,5,6],[7,8,9]])"
   ]
  },
  {
   "cell_type": "code",
   "execution_count": 87,
   "id": "68bdb196",
   "metadata": {},
   "outputs": [
    {
     "data": {
      "text/plain": [
       "array([[1, 2, 3],\n",
       "       [4, 5, 6],\n",
       "       [7, 8, 9]])"
      ]
     },
     "execution_count": 87,
     "metadata": {},
     "output_type": "execute_result"
    }
   ],
   "source": [
    "matrix2DArr"
   ]
  },
  {
   "cell_type": "code",
   "execution_count": 88,
   "id": "ed55a42b",
   "metadata": {},
   "outputs": [
    {
     "data": {
      "text/plain": [
       "array([[1, 2, 3],\n",
       "       [4, 5, 6]])"
      ]
     },
     "execution_count": 88,
     "metadata": {},
     "output_type": "execute_result"
    }
   ],
   "source": [
    "matrix2DArr[0:2]"
   ]
  },
  {
   "cell_type": "code",
   "execution_count": 89,
   "id": "337ea84a",
   "metadata": {},
   "outputs": [
    {
     "data": {
      "text/plain": [
       "5"
      ]
     },
     "execution_count": 89,
     "metadata": {},
     "output_type": "execute_result"
    }
   ],
   "source": [
    "matrix2DArr[1,1]"
   ]
  },
  {
   "cell_type": "code",
   "execution_count": 90,
   "id": "7ad472c6",
   "metadata": {},
   "outputs": [
    {
     "data": {
      "text/plain": [
       "True"
      ]
     },
     "execution_count": 90,
     "metadata": {},
     "output_type": "execute_result"
    }
   ],
   "source": [
    "matrix2DArr[1,1] == matrix2DArr[1][1]"
   ]
  },
  {
   "cell_type": "code",
   "execution_count": 85,
   "id": "3807d6e1",
   "metadata": {},
   "outputs": [
    {
     "data": {
      "text/plain": [
       "5"
      ]
     },
     "execution_count": 85,
     "metadata": {},
     "output_type": "execute_result"
    }
   ],
   "source": [
    "matrix2DArr[1][1]"
   ]
  },
  {
   "cell_type": "code",
   "execution_count": null,
   "id": "88b25953",
   "metadata": {},
   "outputs": [],
   "source": []
  }
 ],
 "metadata": {
  "kernelspec": {
   "display_name": "Python 3 (ipykernel)",
   "language": "python",
   "name": "python3"
  },
  "language_info": {
   "codemirror_mode": {
    "name": "ipython",
    "version": 3
   },
   "file_extension": ".py",
   "mimetype": "text/x-python",
   "name": "python",
   "nbconvert_exporter": "python",
   "pygments_lexer": "ipython3",
   "version": "3.11.5"
  }
 },
 "nbformat": 4,
 "nbformat_minor": 5
}
